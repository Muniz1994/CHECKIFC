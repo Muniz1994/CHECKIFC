{
 "cells": [
  {
   "cell_type": "code",
   "execution_count": 1,
   "metadata": {},
   "outputs": [],
   "source": [
    "from CheckModel import CheckModel\n",
    "import trimesh"
   ]
  },
  {
   "cell_type": "code",
   "execution_count": 2,
   "metadata": {},
   "outputs": [],
   "source": [
    "my_model = CheckModel(\"BuildingTeste3.ifc\")"
   ]
  },
  {
   "cell_type": "code",
   "execution_count": 4,
   "metadata": {},
   "outputs": [],
   "source": [
    "# get examples of objects that collide\n",
    "space = my_model.select('#2VqlKGzpbEYfMhQ83V14GE')[0]\n",
    "wall = my_model.select('#3dUPquTnvBDe7uKbalFHNI')[0]\n",
    "\n",
    "# get examples of objects that don't coolide\n",
    "wall_a = my_model.select('.IfcWall')[2]\n",
    "wall_b = my_model.select('.IfcWall')[3]"
   ]
  },
  {
   "cell_type": "code",
   "execution_count": 16,
   "metadata": {},
   "outputs": [
    {
     "data": {
      "text/plain": [
       "<fcl.fcl.CollisionObject at 0x18035d7e730>"
      ]
     },
     "execution_count": 16,
     "metadata": {},
     "output_type": "execute_result"
    }
   ],
   "source": [
    "c_manager = trimesh.collision.CollisionManager() # create manager that contains all of the objects that need to check collision\n",
    "c_manager.add_object(\"space\",space.mesh)\n",
    "c_manager.add_object(\"wall\",wall.mesh)\n",
    "c_manager.add_object(\"wall_a\",wall_a.mesh)\n",
    "c_manager.add_object(\"wall_b\",wall_b.mesh)\n"
   ]
  },
  {
   "cell_type": "code",
   "execution_count": 20,
   "metadata": {},
   "outputs": [
    {
     "name": "stdout",
     "output_type": "stream",
     "text": [
      "(True, {('space', 'wall_b'), ('space', 'wall')})\n"
     ]
    }
   ],
   "source": []
  }
 ],
 "metadata": {
  "kernelspec": {
   "display_name": "venv",
   "language": "python",
   "name": "python3"
  },
  "language_info": {
   "codemirror_mode": {
    "name": "ipython",
    "version": 3
   },
   "file_extension": ".py",
   "mimetype": "text/x-python",
   "name": "python",
   "nbconvert_exporter": "python",
   "pygments_lexer": "ipython3",
   "version": "3.11.2"
  }
 },
 "nbformat": 4,
 "nbformat_minor": 2
}
